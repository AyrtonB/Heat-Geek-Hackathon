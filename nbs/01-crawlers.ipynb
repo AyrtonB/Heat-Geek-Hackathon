{
 "cells": [
  {
   "cell_type": "code",
   "execution_count": null,
   "metadata": {},
   "outputs": [],
   "source": []
  },
  {
   "cell_type": "code",
   "execution_count": 1,
   "metadata": {},
   "outputs": [],
   "source": [
    "import os\n",
    "import requests\n",
    "import datetime\n",
    "\n",
    "import pandas as pd\n",
    "from tqdm import tqdm\n",
    "from dotenv import load_dotenv\n",
    "from pydantic import TypeAdapter\n",
    "from sqlmodel import SQLModel, create_engine\n",
    "from sqlalchemy.orm import sessionmaker\n",
    "\n",
    "from heatmap.conversion import ng_to_core__power_carbon_intensity, elexon_to_core__power_market_index\n",
    "from heatmap.definitions.elexon import MarketIndex\n",
    "from heatmap.definitions.ng_carbon_intensity import Response as NgCarbonIntensityResponse\n",
    "from heatmap.definitions.timeseries import PowerCarbonIntensity, PowerPrice, GasPrice"
   ]
  },
  {
   "cell_type": "code",
   "execution_count": null,
   "metadata": {},
   "outputs": [],
   "source": []
  },
  {
   "cell_type": "code",
   "execution_count": 2,
   "metadata": {},
   "outputs": [],
   "source": [
    "load_dotenv('../.env')\n",
    "DB_CONN_STR = os.environ['DB_CONN_STR'].replace('sqlite:///', 'sqlite:///../')\n",
    "\n",
    "engine = create_engine(url=DB_CONN_STR)\n",
    "bound_sessionmaker = sessionmaker(engine)\n",
    "SQLModel.metadata.create_all(engine, tables=[\n",
    "    PowerCarbonIntensity.__table__, \n",
    "    PowerPrice.__table__, \n",
    "    GasPrice.__table__\n",
    "])"
   ]
  },
  {
   "cell_type": "code",
   "execution_count": null,
   "metadata": {},
   "outputs": [],
   "source": []
  },
  {
   "cell_type": "code",
   "execution_count": null,
   "metadata": {},
   "outputs": [],
   "source": [
    "start_date = datetime.datetime(2021, 1, 1, 0, 0)\n",
    "end_date = datetime.datetime(2024, 6, 16, 23, 59)"
   ]
  },
  {
   "cell_type": "code",
   "execution_count": null,
   "metadata": {},
   "outputs": [],
   "source": []
  },
  {
   "cell_type": "code",
   "execution_count": 3,
   "metadata": {},
   "outputs": [],
   "source": [
    "def batch_start_end_dates(start_date: datetime.datetime, end_date: datetime.datetime, freq: str = '7d') -> list[tuple[datetime.datetime, datetime.datetime]]:\n",
    "    dt_rng = pd.date_range(start_date, end_date, freq=freq)\n",
    "    return list(zip([dt+datetime.timedelta(minutes=30) for dt in dt_rng[:-1]], dt_rng[1:]))"
   ]
  },
  {
   "cell_type": "code",
   "execution_count": 4,
   "metadata": {},
   "outputs": [],
   "source": [
    "download_power_carbon_intensities = False\n",
    "\n",
    "if download_power_carbon_intensities:\n",
    "    power_carbon_intensities = []\n",
    "\n",
    "    for batch_start_date, batch_end_date in tqdm(batch_start_end_dates(start_date, end_date)):\n",
    "        r = requests.get(f'https://api.carbonintensity.org.uk/intensity/{batch_start_date.strftime(\"%Y-%m-%dT%H:%MZ\")}/{batch_end_date.strftime(\"%Y-%m-%dT%H:%MZ\")}', headers={'Accept': 'application/json'})\n",
    "        ng_carbon_intensity_response = NgCarbonIntensityResponse.model_validate(r.json())\n",
    "        power_carbon_intensities.extend(ng_to_core__power_carbon_intensity(ng_carbon_intensity_response))\n",
    "\n",
    "    # there's a single duplicated datetime that the below two lines will remove\n",
    "    PowerCarbonIntensityList = TypeAdapter(list[PowerCarbonIntensity])\n",
    "    power_carbon_intensities = PowerCarbonIntensityList.validate_python(pd.DataFrame([pci.model_dump() for pci in power_carbon_intensities]).drop_duplicates(subset=['start_time']).to_dict(orient='records'))\n",
    "\n",
    "    with bound_sessionmaker() as session:\n",
    "        session.bulk_save_objects(power_carbon_intensities)\n",
    "        session.commit()"
   ]
  },
  {
   "cell_type": "code",
   "execution_count": null,
   "metadata": {},
   "outputs": [],
   "source": []
  },
  {
   "cell_type": "code",
   "execution_count": 5,
   "metadata": {},
   "outputs": [
    {
     "name": "stderr",
     "output_type": "stream",
     "text": [
      "  0%|          | 0/180 [00:00<?, ?it/s]"
     ]
    },
    {
     "name": "stderr",
     "output_type": "stream",
     "text": [
      "100%|██████████| 180/180 [00:14<00:00, 12.26it/s]\n"
     ]
    }
   ],
   "source": [
    "download_power_carbon_intensities = False\n",
    "\n",
    "if download_power_carbon_intensities:\n",
    "    url = 'https://data.elexon.co.uk/bmrs/api/v1/balancing/pricing/market-index'\n",
    "\n",
    "    raw_data = []\n",
    "\n",
    "    for batch_start_date, batch_end_date in tqdm(batch_start_end_dates(start_date, end_date)):\n",
    "        params = {\n",
    "            'from': batch_start_date.strftime('%Y-%m-%dT%H:%MZ'),\n",
    "            'to': batch_end_date.strftime('%Y-%m-%dT%H:%MZ'),\n",
    "            'dataProviders': 'APXMIDP'\n",
    "        }\n",
    "        \n",
    "        r = requests.get(url, params=params, headers={'Accept': 'application/json'})\n",
    "        raw_data.extend(r.json()['data'])\n",
    "\n",
    "    MarketIndexList = TypeAdapter(list[MarketIndex])\n",
    "    market_index_records = MarketIndexList.validate_python(raw_data)\n",
    "\n",
    "    cleaned_power_price_records = elexon_to_core__power_market_index(market_index_records)\n",
    "\n",
    "    with bound_sessionmaker() as session:\n",
    "        session.bulk_save_objects(cleaned_power_price_records)\n",
    "        session.commit()"
   ]
  },
  {
   "cell_type": "code",
   "execution_count": 9,
   "metadata": {},
   "outputs": [],
   "source": []
  },
  {
   "cell_type": "code",
   "execution_count": null,
   "metadata": {},
   "outputs": [],
   "source": []
  }
 ],
 "metadata": {
  "kernelspec": {
   "display_name": "heatmap-ndF_Jpp4-py3.12",
   "language": "python",
   "name": "python3"
  },
  "language_info": {
   "codemirror_mode": {
    "name": "ipython",
    "version": 3
   },
   "file_extension": ".py",
   "mimetype": "text/x-python",
   "name": "python",
   "nbconvert_exporter": "python",
   "pygments_lexer": "ipython3",
   "version": "3.12.3"
  }
 },
 "nbformat": 4,
 "nbformat_minor": 2
}
