{
 "cells": [
  {
   "cell_type": "code",
   "execution_count": null,
   "metadata": {},
   "outputs": [],
   "source": []
  },
  {
   "cell_type": "code",
   "execution_count": 6,
   "metadata": {},
   "outputs": [],
   "source": [
    "import requests\n",
    "import datetime\n",
    "\n",
    "from heatmap.definitions.timeseries import PowerCarbonIntensity\n",
    "from heatmap.definitions.ng_carbon_intensity import Response as NgCarbonIntensityResponse"
   ]
  },
  {
   "cell_type": "code",
   "execution_count": null,
   "metadata": {},
   "outputs": [],
   "source": []
  },
  {
   "cell_type": "code",
   "execution_count": 2,
   "metadata": {},
   "outputs": [
    {
     "data": {
      "text/plain": [
       "Response(data=[Data(from_=datetime.datetime(2023, 12, 31, 23, 30, tzinfo=TzInfo(UTC)), to=datetime.datetime(2024, 1, 1, 0, 0, tzinfo=TzInfo(UTC)), intensity=Intensity(forecast=68.0, actual=63.0, index='low')), Data(from_=datetime.datetime(2024, 1, 1, 0, 0, tzinfo=TzInfo(UTC)), to=datetime.datetime(2024, 1, 1, 0, 30, tzinfo=TzInfo(UTC)), intensity=Intensity(forecast=64.0, actual=64.0, index='low')), Data(from_=datetime.datetime(2024, 1, 1, 0, 30, tzinfo=TzInfo(UTC)), to=datetime.datetime(2024, 1, 1, 1, 0, tzinfo=TzInfo(UTC)), intensity=Intensity(forecast=62.0, actual=64.0, index='low')), Data(from_=datetime.datetime(2024, 1, 1, 1, 0, tzinfo=TzInfo(UTC)), to=datetime.datetime(2024, 1, 1, 1, 30, tzinfo=TzInfo(UTC)), intensity=Intensity(forecast=65.0, actual=62.0, index='low')), Data(from_=datetime.datetime(2024, 1, 1, 1, 30, tzinfo=TzInfo(UTC)), to=datetime.datetime(2024, 1, 1, 2, 0, tzinfo=TzInfo(UTC)), intensity=Intensity(forecast=61.0, actual=71.0, index='low')), Data(from_=datetime.datetime(2024, 1, 1, 2, 0, tzinfo=TzInfo(UTC)), to=datetime.datetime(2024, 1, 1, 2, 30, tzinfo=TzInfo(UTC)), intensity=Intensity(forecast=61.0, actual=66.0, index='low')), Data(from_=datetime.datetime(2024, 1, 1, 2, 30, tzinfo=TzInfo(UTC)), to=datetime.datetime(2024, 1, 1, 3, 0, tzinfo=TzInfo(UTC)), intensity=Intensity(forecast=67.0, actual=67.0, index='low')), Data(from_=datetime.datetime(2024, 1, 1, 3, 0, tzinfo=TzInfo(UTC)), to=datetime.datetime(2024, 1, 1, 3, 30, tzinfo=TzInfo(UTC)), intensity=Intensity(forecast=63.0, actual=64.0, index='low')), Data(from_=datetime.datetime(2024, 1, 1, 3, 30, tzinfo=TzInfo(UTC)), to=datetime.datetime(2024, 1, 1, 4, 0, tzinfo=TzInfo(UTC)), intensity=Intensity(forecast=64.0, actual=60.0, index='low')), Data(from_=datetime.datetime(2024, 1, 1, 4, 0, tzinfo=TzInfo(UTC)), to=datetime.datetime(2024, 1, 1, 4, 30, tzinfo=TzInfo(UTC)), intensity=Intensity(forecast=67.0, actual=57.0, index='low')), Data(from_=datetime.datetime(2024, 1, 1, 4, 30, tzinfo=TzInfo(UTC)), to=datetime.datetime(2024, 1, 1, 5, 0, tzinfo=TzInfo(UTC)), intensity=Intensity(forecast=60.0, actual=57.0, index='low')), Data(from_=datetime.datetime(2024, 1, 1, 5, 0, tzinfo=TzInfo(UTC)), to=datetime.datetime(2024, 1, 1, 5, 30, tzinfo=TzInfo(UTC)), intensity=Intensity(forecast=62.0, actual=60.0, index='low')), Data(from_=datetime.datetime(2024, 1, 1, 5, 30, tzinfo=TzInfo(UTC)), to=datetime.datetime(2024, 1, 1, 6, 0, tzinfo=TzInfo(UTC)), intensity=Intensity(forecast=55.0, actual=59.0, index='low')), Data(from_=datetime.datetime(2024, 1, 1, 6, 0, tzinfo=TzInfo(UTC)), to=datetime.datetime(2024, 1, 1, 6, 30, tzinfo=TzInfo(UTC)), intensity=Intensity(forecast=58.0, actual=62.0, index='low')), Data(from_=datetime.datetime(2024, 1, 1, 6, 30, tzinfo=TzInfo(UTC)), to=datetime.datetime(2024, 1, 1, 7, 0, tzinfo=TzInfo(UTC)), intensity=Intensity(forecast=58.0, actual=60.0, index='low')), Data(from_=datetime.datetime(2024, 1, 1, 7, 0, tzinfo=TzInfo(UTC)), to=datetime.datetime(2024, 1, 1, 7, 30, tzinfo=TzInfo(UTC)), intensity=Intensity(forecast=50.0, actual=60.0, index='low')), Data(from_=datetime.datetime(2024, 1, 1, 7, 30, tzinfo=TzInfo(UTC)), to=datetime.datetime(2024, 1, 1, 8, 0, tzinfo=TzInfo(UTC)), intensity=Intensity(forecast=60.0, actual=52.0, index='low')), Data(from_=datetime.datetime(2024, 1, 1, 8, 0, tzinfo=TzInfo(UTC)), to=datetime.datetime(2024, 1, 1, 8, 30, tzinfo=TzInfo(UTC)), intensity=Intensity(forecast=60.0, actual=47.0, index='low')), Data(from_=datetime.datetime(2024, 1, 1, 8, 30, tzinfo=TzInfo(UTC)), to=datetime.datetime(2024, 1, 1, 9, 0, tzinfo=TzInfo(UTC)), intensity=Intensity(forecast=54.0, actual=46.0, index='low')), Data(from_=datetime.datetime(2024, 1, 1, 9, 0, tzinfo=TzInfo(UTC)), to=datetime.datetime(2024, 1, 1, 9, 30, tzinfo=TzInfo(UTC)), intensity=Intensity(forecast=39.0, actual=48.0, index='low')), Data(from_=datetime.datetime(2024, 1, 1, 9, 30, tzinfo=TzInfo(UTC)), to=datetime.datetime(2024, 1, 1, 10, 0, tzinfo=TzInfo(UTC)), intensity=Intensity(forecast=43.0, actual=50.0, index='low')), Data(from_=datetime.datetime(2024, 1, 1, 10, 0, tzinfo=TzInfo(UTC)), to=datetime.datetime(2024, 1, 1, 10, 30, tzinfo=TzInfo(UTC)), intensity=Intensity(forecast=44.0, actual=54.0, index='low')), Data(from_=datetime.datetime(2024, 1, 1, 10, 30, tzinfo=TzInfo(UTC)), to=datetime.datetime(2024, 1, 1, 11, 0, tzinfo=TzInfo(UTC)), intensity=Intensity(forecast=47.0, actual=62.0, index='low')), Data(from_=datetime.datetime(2024, 1, 1, 11, 0, tzinfo=TzInfo(UTC)), to=datetime.datetime(2024, 1, 1, 11, 30, tzinfo=TzInfo(UTC)), intensity=Intensity(forecast=49.0, actual=71.0, index='low')), Data(from_=datetime.datetime(2024, 1, 1, 11, 30, tzinfo=TzInfo(UTC)), to=datetime.datetime(2024, 1, 1, 12, 0, tzinfo=TzInfo(UTC)), intensity=Intensity(forecast=59.0, actual=82.0, index='low')), Data(from_=datetime.datetime(2024, 1, 1, 12, 0, tzinfo=TzInfo(UTC)), to=datetime.datetime(2024, 1, 1, 12, 30, tzinfo=TzInfo(UTC)), intensity=Intensity(forecast=78.0, actual=91.0, index='low'))])"
      ]
     },
     "execution_count": 2,
     "metadata": {},
     "output_type": "execute_result"
    }
   ],
   "source": [
    "start_date = datetime.datetime(2024, 1, 1, 0, 0)\n",
    "end_date = datetime.datetime(2024, 1, 1, 12, 59)\n",
    "\n",
    "r = requests.get(f'https://api.carbonintensity.org.uk/intensity/{start_date.strftime(\"%Y-%m-%dT%H:%MZ\")}/{end_date.strftime(\"%Y-%m-%dT%H:%MZ\")}', headers={'Accept': 'application/json'})\n",
    " \n",
    "ng_carbon_intensity_response = NgCarbonIntensityResponse.model_validate(r.json())\n",
    "\n",
    "ng_carbon_intensity_response"
   ]
  },
  {
   "cell_type": "code",
   "execution_count": null,
   "metadata": {},
   "outputs": [],
   "source": []
  },
  {
   "cell_type": "code",
   "execution_count": 9,
   "metadata": {},
   "outputs": [
    {
     "data": {
      "text/plain": [
       "[PowerCarbonIntensity(start_time=datetime.datetime(2023, 12, 31, 23, 30, tzinfo=TzInfo(UTC)), value=63.0),\n",
       " PowerCarbonIntensity(start_time=datetime.datetime(2024, 1, 1, 0, 0, tzinfo=TzInfo(UTC)), value=64.0),\n",
       " PowerCarbonIntensity(start_time=datetime.datetime(2024, 1, 1, 0, 30, tzinfo=TzInfo(UTC)), value=64.0),\n",
       " PowerCarbonIntensity(start_time=datetime.datetime(2024, 1, 1, 1, 0, tzinfo=TzInfo(UTC)), value=62.0),\n",
       " PowerCarbonIntensity(start_time=datetime.datetime(2024, 1, 1, 1, 30, tzinfo=TzInfo(UTC)), value=71.0),\n",
       " PowerCarbonIntensity(start_time=datetime.datetime(2024, 1, 1, 2, 0, tzinfo=TzInfo(UTC)), value=66.0),\n",
       " PowerCarbonIntensity(start_time=datetime.datetime(2024, 1, 1, 2, 30, tzinfo=TzInfo(UTC)), value=67.0),\n",
       " PowerCarbonIntensity(start_time=datetime.datetime(2024, 1, 1, 3, 0, tzinfo=TzInfo(UTC)), value=64.0),\n",
       " PowerCarbonIntensity(start_time=datetime.datetime(2024, 1, 1, 3, 30, tzinfo=TzInfo(UTC)), value=60.0),\n",
       " PowerCarbonIntensity(start_time=datetime.datetime(2024, 1, 1, 4, 0, tzinfo=TzInfo(UTC)), value=57.0),\n",
       " PowerCarbonIntensity(start_time=datetime.datetime(2024, 1, 1, 4, 30, tzinfo=TzInfo(UTC)), value=57.0),\n",
       " PowerCarbonIntensity(start_time=datetime.datetime(2024, 1, 1, 5, 0, tzinfo=TzInfo(UTC)), value=60.0),\n",
       " PowerCarbonIntensity(start_time=datetime.datetime(2024, 1, 1, 5, 30, tzinfo=TzInfo(UTC)), value=59.0),\n",
       " PowerCarbonIntensity(start_time=datetime.datetime(2024, 1, 1, 6, 0, tzinfo=TzInfo(UTC)), value=62.0),\n",
       " PowerCarbonIntensity(start_time=datetime.datetime(2024, 1, 1, 6, 30, tzinfo=TzInfo(UTC)), value=60.0),\n",
       " PowerCarbonIntensity(start_time=datetime.datetime(2024, 1, 1, 7, 0, tzinfo=TzInfo(UTC)), value=60.0),\n",
       " PowerCarbonIntensity(start_time=datetime.datetime(2024, 1, 1, 7, 30, tzinfo=TzInfo(UTC)), value=52.0),\n",
       " PowerCarbonIntensity(start_time=datetime.datetime(2024, 1, 1, 8, 0, tzinfo=TzInfo(UTC)), value=47.0),\n",
       " PowerCarbonIntensity(start_time=datetime.datetime(2024, 1, 1, 8, 30, tzinfo=TzInfo(UTC)), value=46.0),\n",
       " PowerCarbonIntensity(start_time=datetime.datetime(2024, 1, 1, 9, 0, tzinfo=TzInfo(UTC)), value=48.0),\n",
       " PowerCarbonIntensity(start_time=datetime.datetime(2024, 1, 1, 9, 30, tzinfo=TzInfo(UTC)), value=50.0),\n",
       " PowerCarbonIntensity(start_time=datetime.datetime(2024, 1, 1, 10, 0, tzinfo=TzInfo(UTC)), value=54.0),\n",
       " PowerCarbonIntensity(start_time=datetime.datetime(2024, 1, 1, 10, 30, tzinfo=TzInfo(UTC)), value=62.0),\n",
       " PowerCarbonIntensity(start_time=datetime.datetime(2024, 1, 1, 11, 0, tzinfo=TzInfo(UTC)), value=71.0),\n",
       " PowerCarbonIntensity(start_time=datetime.datetime(2024, 1, 1, 11, 30, tzinfo=TzInfo(UTC)), value=82.0),\n",
       " PowerCarbonIntensity(start_time=datetime.datetime(2024, 1, 1, 12, 0, tzinfo=TzInfo(UTC)), value=91.0)]"
      ]
     },
     "execution_count": 9,
     "metadata": {},
     "output_type": "execute_result"
    }
   ],
   "source": [
    "power_carbon_intensities = [\n",
    "    PowerCarbonIntensity(\n",
    "            start_time=data_record.from_,\n",
    "            end_time=data_record.to,\n",
    "            value=data_record.intensity.actual\n",
    "        )\n",
    "    for data_record \n",
    "    in ng_carbon_intensity_response.data\n",
    "    if data_record.intensity.actual is not None\n",
    "]\n",
    "\n",
    "power_carbon_intensities"
   ]
  },
  {
   "cell_type": "code",
   "execution_count": null,
   "metadata": {},
   "outputs": [],
   "source": []
  }
 ],
 "metadata": {
  "kernelspec": {
   "display_name": "heatmap-ndF_Jpp4-py3.12",
   "language": "python",
   "name": "python3"
  },
  "language_info": {
   "codemirror_mode": {
    "name": "ipython",
    "version": 3
   },
   "file_extension": ".py",
   "mimetype": "text/x-python",
   "name": "python",
   "nbconvert_exporter": "python",
   "pygments_lexer": "ipython3",
   "version": "3.12.3"
  }
 },
 "nbformat": 4,
 "nbformat_minor": 2
}
