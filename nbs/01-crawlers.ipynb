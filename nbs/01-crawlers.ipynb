{
 "cells": [
  {
   "cell_type": "code",
   "execution_count": null,
   "metadata": {},
   "outputs": [],
   "source": []
  },
  {
   "cell_type": "code",
   "execution_count": 45,
   "metadata": {},
   "outputs": [],
   "source": [
    "import os\n",
    "import requests\n",
    "import datetime\n",
    "# import calendar\n",
    "\n",
    "import pandas as pd\n",
    "from dotenv import load_dotenv\n",
    "from sqlmodel import SQLModel, create_engine\n",
    "from sqlalchemy.orm import sessionmaker\n",
    "\n",
    "from heatmap.conversion import ng_to_core_power_carbon_intensity\n",
    "from heatmap.definitions.ng_carbon_intensity import Response as NgCarbonIntensityResponse\n",
    "from heatmap.definitions.timeseries import PowerCarbonIntensity, PowerPrice, GasPrice"
   ]
  },
  {
   "cell_type": "code",
   "execution_count": null,
   "metadata": {},
   "outputs": [],
   "source": []
  },
  {
   "cell_type": "code",
   "execution_count": 46,
   "metadata": {},
   "outputs": [],
   "source": [
    "load_dotenv('../.env')\n",
    "DB_CONN_STR = os.environ['DB_CONN_STR'].replace('sqlite:///', 'sqlite:///../')\n",
    "\n",
    "engine = create_engine(url=DB_CONN_STR)\n",
    "bound_sessionmaker = sessionmaker(engine)\n",
    "SQLModel.metadata.create_all(engine, tables=[\n",
    "    PowerCarbonIntensity.__table__, \n",
    "    PowerPrice.__table__, \n",
    "    GasPrice.__table__\n",
    "])"
   ]
  },
  {
   "cell_type": "code",
   "execution_count": null,
   "metadata": {},
   "outputs": [],
   "source": []
  },
  {
   "cell_type": "code",
   "execution_count": 39,
   "metadata": {},
   "outputs": [],
   "source": [
    "def batch_start_end_dates(start_date: datetime.datetime, end_date: datetime.datetime, freq: str = '7d') -> list[tuple[datetime.datetime, datetime.datetime]]:\n",
    "    dt_rng = pd.date_range(start_date, end_date, freq=freq)\n",
    "    return list(zip([dt+datetime.timedelta(minutes=30) for dt in dt_rng[:-1]], dt_rng[1:]))"
   ]
  },
  {
   "cell_type": "code",
   "execution_count": 43,
   "metadata": {},
   "outputs": [
    {
     "data": {
      "text/plain": [
       "[PowerCarbonIntensity(start_time=datetime.datetime(2021, 3, 25, 21, 30, tzinfo=TzInfo(UTC)), end_time=datetime.datetime(2021, 3, 25, 22, 0, tzinfo=TzInfo(UTC)), value=85.0),\n",
       " PowerCarbonIntensity(start_time=datetime.datetime(2021, 3, 25, 22, 0, tzinfo=TzInfo(UTC)), end_time=datetime.datetime(2021, 3, 25, 22, 30, tzinfo=TzInfo(UTC)), value=82.0),\n",
       " PowerCarbonIntensity(start_time=datetime.datetime(2021, 3, 25, 22, 30, tzinfo=TzInfo(UTC)), end_time=datetime.datetime(2021, 3, 25, 23, 0, tzinfo=TzInfo(UTC)), value=79.0),\n",
       " PowerCarbonIntensity(start_time=datetime.datetime(2021, 3, 25, 23, 0, tzinfo=TzInfo(UTC)), end_time=datetime.datetime(2021, 3, 25, 23, 30, tzinfo=TzInfo(UTC)), value=73.0),\n",
       " PowerCarbonIntensity(start_time=datetime.datetime(2021, 3, 25, 23, 30, tzinfo=TzInfo(UTC)), end_time=datetime.datetime(2021, 3, 26, 0, 0, tzinfo=TzInfo(UTC)), value=74.0)]"
      ]
     },
     "execution_count": 43,
     "metadata": {},
     "output_type": "execute_result"
    }
   ],
   "source": [
    "start_date = datetime.datetime(2021, 1, 1, 0, 0)\n",
    "end_date = datetime.datetime(2021, 3, 30, 23, 59)\n",
    "\n",
    "power_carbon_intensities = []\n",
    "\n",
    "for batch_start_date, batch_end_date in batch_start_end_dates(start_date, end_date):\n",
    "    r = requests.get(f'https://api.carbonintensity.org.uk/intensity/{batch_start_date.strftime(\"%Y-%m-%dT%H:%MZ\")}/{batch_end_date.strftime(\"%Y-%m-%dT%H:%MZ\")}', headers={'Accept': 'application/json'})\n",
    "    ng_carbon_intensity_response = NgCarbonIntensityResponse.model_validate(r.json())\n",
    "    power_carbon_intensities.extend(ng_to_core_power_carbon_intensity(ng_carbon_intensity_response))\n",
    "\n",
    "with bound_sessionmaker() as session:\n",
    "    session.bulk_save_objects(power_carbon_intensities)\n",
    "    session.commit()\n",
    "\n",
    "power_carbon_intensities[-5:]"
   ]
  },
  {
   "cell_type": "code",
   "execution_count": null,
   "metadata": {},
   "outputs": [],
   "source": []
  },
  {
   "cell_type": "code",
   "execution_count": 41,
   "metadata": {},
   "outputs": [
    {
     "name": "stdout",
     "output_type": "stream",
     "text": [
      "336\n"
     ]
    },
    {
     "data": {
      "text/plain": [
       "[PowerCarbonIntensity(start_time=datetime.datetime(2021, 3, 19, 0, 0, tzinfo=TzInfo(UTC)), end_time=datetime.datetime(2021, 3, 19, 0, 30, tzinfo=TzInfo(UTC)), value=171.0),\n",
       " PowerCarbonIntensity(start_time=datetime.datetime(2021, 3, 19, 0, 30, tzinfo=TzInfo(UTC)), end_time=datetime.datetime(2021, 3, 19, 1, 0, tzinfo=TzInfo(UTC)), value=170.0),\n",
       " PowerCarbonIntensity(start_time=datetime.datetime(2021, 3, 19, 1, 0, tzinfo=TzInfo(UTC)), end_time=datetime.datetime(2021, 3, 19, 1, 30, tzinfo=TzInfo(UTC)), value=167.0),\n",
       " PowerCarbonIntensity(start_time=datetime.datetime(2021, 3, 19, 1, 30, tzinfo=TzInfo(UTC)), end_time=datetime.datetime(2021, 3, 19, 2, 0, tzinfo=TzInfo(UTC)), value=169.0),\n",
       " PowerCarbonIntensity(start_time=datetime.datetime(2021, 3, 19, 2, 0, tzinfo=TzInfo(UTC)), end_time=datetime.datetime(2021, 3, 19, 2, 30, tzinfo=TzInfo(UTC)), value=167.0)]"
      ]
     },
     "execution_count": 41,
     "metadata": {},
     "output_type": "execute_result"
    }
   ],
   "source": [
    "r = requests.get(f'https://api.carbonintensity.org.uk/intensity/{batch_start_date.strftime(\"%Y-%m-%dT%H:%MZ\")}/{batch_end_date.strftime(\"%Y-%m-%dT%H:%MZ\")}', headers={'Accept': 'application/json'})\n",
    " \n",
    "ng_carbon_intensity_response = NgCarbonIntensityResponse.model_validate(r.json())\n",
    "power_carbon_intensities = ng_to_core_power_carbon_intensity(ng_carbon_intensity_response)\n",
    "\n",
    "print(len(power_carbon_intensities))\n",
    "power_carbon_intensities[:5]"
   ]
  },
  {
   "cell_type": "code",
   "execution_count": 37,
   "metadata": {},
   "outputs": [
    {
     "data": {
      "text/plain": [
       "[PowerCarbonIntensity(start_time=datetime.datetime(2021, 3, 25, 21, 30, tzinfo=TzInfo(UTC)), end_time=datetime.datetime(2021, 3, 25, 22, 0, tzinfo=TzInfo(UTC)), value=85.0),\n",
       " PowerCarbonIntensity(start_time=datetime.datetime(2021, 3, 25, 22, 0, tzinfo=TzInfo(UTC)), end_time=datetime.datetime(2021, 3, 25, 22, 30, tzinfo=TzInfo(UTC)), value=82.0),\n",
       " PowerCarbonIntensity(start_time=datetime.datetime(2021, 3, 25, 22, 30, tzinfo=TzInfo(UTC)), end_time=datetime.datetime(2021, 3, 25, 23, 0, tzinfo=TzInfo(UTC)), value=79.0),\n",
       " PowerCarbonIntensity(start_time=datetime.datetime(2021, 3, 25, 23, 0, tzinfo=TzInfo(UTC)), end_time=datetime.datetime(2021, 3, 25, 23, 30, tzinfo=TzInfo(UTC)), value=73.0),\n",
       " PowerCarbonIntensity(start_time=datetime.datetime(2021, 3, 25, 23, 30, tzinfo=TzInfo(UTC)), end_time=datetime.datetime(2021, 3, 26, 0, 0, tzinfo=TzInfo(UTC)), value=74.0)]"
      ]
     },
     "execution_count": 37,
     "metadata": {},
     "output_type": "execute_result"
    }
   ],
   "source": [
    "power_carbon_intensities[-5:]"
   ]
  },
  {
   "cell_type": "code",
   "execution_count": 38,
   "metadata": {},
   "outputs": [],
   "source": [
    "bound_sessionmaker = sessionmaker(engine)\n",
    "\n",
    "with bound_sessionmaker() as session:\n",
    "    for power_carbon_intensity in power_carbon_intensities:\n",
    "        session.add(power_carbon_intensity)\n",
    "    session.commit()"
   ]
  },
  {
   "cell_type": "code",
   "execution_count": null,
   "metadata": {},
   "outputs": [],
   "source": []
  },
  {
   "cell_type": "code",
   "execution_count": null,
   "metadata": {},
   "outputs": [],
   "source": []
  }
 ],
 "metadata": {
  "kernelspec": {
   "display_name": "heatmap-ndF_Jpp4-py3.12",
   "language": "python",
   "name": "python3"
  },
  "language_info": {
   "codemirror_mode": {
    "name": "ipython",
    "version": 3
   },
   "file_extension": ".py",
   "mimetype": "text/x-python",
   "name": "python",
   "nbconvert_exporter": "python",
   "pygments_lexer": "ipython3",
   "version": "3.12.3"
  }
 },
 "nbformat": 4,
 "nbformat_minor": 2
}
