{
 "cells": [
  {
   "cell_type": "code",
   "execution_count": null,
   "metadata": {},
   "outputs": [],
   "source": []
  },
  {
   "cell_type": "code",
   "execution_count": 27,
   "metadata": {},
   "outputs": [],
   "source": [
    "import os\n",
    "import requests\n",
    "import datetime\n",
    "# import calendar\n",
    "\n",
    "import pandas as pd\n",
    "from dotenv import load_dotenv\n",
    "from sqlmodel import SQLModel, create_engine\n",
    "from sqlalchemy.orm import sessionmaker\n",
    "\n",
    "from heatmap.conversion import ng_to_core_power_carbon_intensity\n",
    "from heatmap.definitions.ng_carbon_intensity import Response as NgCarbonIntensityResponse\n",
    "from heatmap.definitions.timeseries import PowerCarbonIntensity, PowerPrice, GasPrice"
   ]
  },
  {
   "cell_type": "code",
   "execution_count": null,
   "metadata": {},
   "outputs": [],
   "source": []
  },
  {
   "cell_type": "code",
   "execution_count": 2,
   "metadata": {},
   "outputs": [],
   "source": [
    "load_dotenv('../.env')\n",
    "DB_CONN_STR = os.environ['DB_CONN_STR'].replace('sqlite:///', 'sqlite:///../')\n",
    "\n",
    "engine = create_engine(url=DB_CONN_STR)\n",
    "SQLModel.metadata.create_all(engine, tables=[\n",
    "    PowerCarbonIntensity.__table__, \n",
    "    PowerPrice.__table__, \n",
    "    GasPrice.__table__\n",
    "])"
   ]
  },
  {
   "cell_type": "code",
   "execution_count": null,
   "metadata": {},
   "outputs": [],
   "source": []
  },
  {
   "cell_type": "code",
   "execution_count": 23,
   "metadata": {},
   "outputs": [],
   "source": [
    "def batch_months(start_date, end_date):\n",
    "    current = start_date\n",
    "\n",
    "    batches = []\n",
    "\n",
    "    while current <= end_date:\n",
    "        month_end = datetime.datetime(current.year, current.month+1, 1, 0, 0)\n",
    "        \n",
    "        if month_end > end_date:\n",
    "            month_end = end_date\n",
    "\n",
    "        batches.append((current, month_end))\n",
    "\n",
    "        if month_end == end_date:\n",
    "            break\n",
    "        current = month_end + datetime.timedelta(days=1)\n",
    "    \n",
    "    return batches"
   ]
  },
  {
   "cell_type": "code",
   "execution_count": null,
   "metadata": {},
   "outputs": [],
   "source": []
  },
  {
   "cell_type": "code",
   "execution_count": 31,
   "metadata": {},
   "outputs": [
    {
     "data": {
      "text/plain": [
       "[(Timestamp('2021-01-08 00:00:00'), Timestamp('2021-01-01 00:00:00')),\n",
       " (Timestamp('2021-01-15 00:00:00'), Timestamp('2021-01-08 00:00:00')),\n",
       " (Timestamp('2021-01-22 00:00:00'), Timestamp('2021-01-15 00:00:00')),\n",
       " (Timestamp('2021-01-29 00:00:00'), Timestamp('2021-01-22 00:00:00')),\n",
       " (Timestamp('2021-02-05 00:00:00'), Timestamp('2021-01-29 00:00:00')),\n",
       " (Timestamp('2021-02-12 00:00:00'), Timestamp('2021-02-05 00:00:00')),\n",
       " (Timestamp('2021-02-19 00:00:00'), Timestamp('2021-02-12 00:00:00')),\n",
       " (Timestamp('2021-02-26 00:00:00'), Timestamp('2021-02-19 00:00:00')),\n",
       " (Timestamp('2021-03-05 00:00:00'), Timestamp('2021-02-26 00:00:00')),\n",
       " (Timestamp('2021-03-12 00:00:00'), Timestamp('2021-03-05 00:00:00')),\n",
       " (Timestamp('2021-03-19 00:00:00'), Timestamp('2021-03-12 00:00:00')),\n",
       " (Timestamp('2021-03-26 00:00:00'), Timestamp('2021-03-19 00:00:00'))]"
      ]
     },
     "execution_count": 31,
     "metadata": {},
     "output_type": "execute_result"
    }
   ],
   "source": [
    "start_date = datetime.datetime(2021, 1, 1, 0, 0)\n",
    "end_date = datetime.datetime(2021, 3, 30, 23, 59)\n",
    "\n",
    "# month_start_end_dates = batch_months(start_date, end_date)\n",
    "\n",
    "dt_rng = pd.date_range(start_date, end_date, freq='7d')\n",
    "\n",
    "list(zip(dt_rng[1:], dt_rng[:-1]))"
   ]
  },
  {
   "cell_type": "code",
   "execution_count": null,
   "metadata": {},
   "outputs": [],
   "source": [
    "dt_rng[1:]"
   ]
  },
  {
   "cell_type": "code",
   "execution_count": null,
   "metadata": {},
   "outputs": [],
   "source": []
  },
  {
   "cell_type": "code",
   "execution_count": 25,
   "metadata": {},
   "outputs": [
    {
     "ename": "ValidationError",
     "evalue": "1 validation error for Response\ndata\n  Field required [type=missing, input_value={'error': {'code': '400 B...a smaller date range.'}}, input_type=dict]\n    For further information visit https://errors.pydantic.dev/2.7/v/missing",
     "output_type": "error",
     "traceback": [
      "\u001b[0;31m---------------------------------------------------------------------------\u001b[0m",
      "\u001b[0;31mValidationError\u001b[0m                           Traceback (most recent call last)",
      "Cell \u001b[0;32mIn[25], line 5\u001b[0m\n\u001b[1;32m      1\u001b[0m start_date, end_date \u001b[38;5;241m=\u001b[39m month_start_end_dates[\u001b[38;5;241m0\u001b[39m]\n\u001b[1;32m      3\u001b[0m r \u001b[38;5;241m=\u001b[39m requests\u001b[38;5;241m.\u001b[39mget(\u001b[38;5;124mf\u001b[39m\u001b[38;5;124m'\u001b[39m\u001b[38;5;124mhttps://api.carbonintensity.org.uk/intensity/\u001b[39m\u001b[38;5;132;01m{\u001b[39;00mstart_date\u001b[38;5;241m.\u001b[39mstrftime(\u001b[38;5;124m\"\u001b[39m\u001b[38;5;124m%\u001b[39m\u001b[38;5;124mY-\u001b[39m\u001b[38;5;124m%\u001b[39m\u001b[38;5;124mm-\u001b[39m\u001b[38;5;132;01m%d\u001b[39;00m\u001b[38;5;124mT\u001b[39m\u001b[38;5;124m%\u001b[39m\u001b[38;5;124mH:\u001b[39m\u001b[38;5;124m%\u001b[39m\u001b[38;5;124mMZ\u001b[39m\u001b[38;5;124m\"\u001b[39m)\u001b[38;5;132;01m}\u001b[39;00m\u001b[38;5;124m/\u001b[39m\u001b[38;5;132;01m{\u001b[39;00mend_date\u001b[38;5;241m.\u001b[39mstrftime(\u001b[38;5;124m\"\u001b[39m\u001b[38;5;124m%\u001b[39m\u001b[38;5;124mY-\u001b[39m\u001b[38;5;124m%\u001b[39m\u001b[38;5;124mm-\u001b[39m\u001b[38;5;132;01m%d\u001b[39;00m\u001b[38;5;124mT\u001b[39m\u001b[38;5;124m%\u001b[39m\u001b[38;5;124mH:\u001b[39m\u001b[38;5;124m%\u001b[39m\u001b[38;5;124mMZ\u001b[39m\u001b[38;5;124m\"\u001b[39m)\u001b[38;5;132;01m}\u001b[39;00m\u001b[38;5;124m'\u001b[39m, headers\u001b[38;5;241m=\u001b[39m{\u001b[38;5;124m'\u001b[39m\u001b[38;5;124mAccept\u001b[39m\u001b[38;5;124m'\u001b[39m: \u001b[38;5;124m'\u001b[39m\u001b[38;5;124mapplication/json\u001b[39m\u001b[38;5;124m'\u001b[39m})\n\u001b[0;32m----> 5\u001b[0m ng_carbon_intensity_response \u001b[38;5;241m=\u001b[39m \u001b[43mNgCarbonIntensityResponse\u001b[49m\u001b[38;5;241;43m.\u001b[39;49m\u001b[43mmodel_validate\u001b[49m\u001b[43m(\u001b[49m\u001b[43mr\u001b[49m\u001b[38;5;241;43m.\u001b[39;49m\u001b[43mjson\u001b[49m\u001b[43m(\u001b[49m\u001b[43m)\u001b[49m\u001b[43m)\u001b[49m\n\u001b[1;32m      6\u001b[0m power_carbon_intensities \u001b[38;5;241m=\u001b[39m ng_to_core_power_carbon_intensity(ng_carbon_intensity_response)\n\u001b[1;32m      8\u001b[0m \u001b[38;5;28mprint\u001b[39m(\u001b[38;5;28mlen\u001b[39m(power_carbon_intensities))\n",
      "File \u001b[0;32m~/Library/Caches/pypoetry/virtualenvs/heatmap-ndF_Jpp4-py3.12/lib/python3.12/site-packages/pydantic/main.py:551\u001b[0m, in \u001b[0;36mBaseModel.model_validate\u001b[0;34m(cls, obj, strict, from_attributes, context)\u001b[0m\n\u001b[1;32m    549\u001b[0m \u001b[38;5;66;03m# `__tracebackhide__` tells pytest and some other tools to omit this function from tracebacks\u001b[39;00m\n\u001b[1;32m    550\u001b[0m __tracebackhide__ \u001b[38;5;241m=\u001b[39m \u001b[38;5;28;01mTrue\u001b[39;00m\n\u001b[0;32m--> 551\u001b[0m \u001b[38;5;28;01mreturn\u001b[39;00m \u001b[38;5;28;43mcls\u001b[39;49m\u001b[38;5;241;43m.\u001b[39;49m\u001b[43m__pydantic_validator__\u001b[49m\u001b[38;5;241;43m.\u001b[39;49m\u001b[43mvalidate_python\u001b[49m\u001b[43m(\u001b[49m\n\u001b[1;32m    552\u001b[0m \u001b[43m    \u001b[49m\u001b[43mobj\u001b[49m\u001b[43m,\u001b[49m\u001b[43m \u001b[49m\u001b[43mstrict\u001b[49m\u001b[38;5;241;43m=\u001b[39;49m\u001b[43mstrict\u001b[49m\u001b[43m,\u001b[49m\u001b[43m \u001b[49m\u001b[43mfrom_attributes\u001b[49m\u001b[38;5;241;43m=\u001b[39;49m\u001b[43mfrom_attributes\u001b[49m\u001b[43m,\u001b[49m\u001b[43m \u001b[49m\u001b[43mcontext\u001b[49m\u001b[38;5;241;43m=\u001b[39;49m\u001b[43mcontext\u001b[49m\n\u001b[1;32m    553\u001b[0m \u001b[43m\u001b[49m\u001b[43m)\u001b[49m\n",
      "\u001b[0;31mValidationError\u001b[0m: 1 validation error for Response\ndata\n  Field required [type=missing, input_value={'error': {'code': '400 B...a smaller date range.'}}, input_type=dict]\n    For further information visit https://errors.pydantic.dev/2.7/v/missing"
     ]
    }
   ],
   "source": [
    "start_date, end_date = month_start_end_dates[0]\n",
    "\n",
    "r = requests.get(f'https://api.carbonintensity.org.uk/intensity/{start_date.strftime(\"%Y-%m-%dT%H:%MZ\")}/{end_date.strftime(\"%Y-%m-%dT%H:%MZ\")}', headers={'Accept': 'application/json'})\n",
    " \n",
    "ng_carbon_intensity_response = NgCarbonIntensityResponse.model_validate(r.json())\n",
    "power_carbon_intensities = ng_to_core_power_carbon_intensity(ng_carbon_intensity_response)\n",
    "\n",
    "print(len(power_carbon_intensities))\n",
    "power_carbon_intensities[:5]"
   ]
  },
  {
   "cell_type": "code",
   "execution_count": 22,
   "metadata": {},
   "outputs": [
    {
     "data": {
      "text/plain": [
       "[PowerCarbonIntensity(start_time=datetime.datetime(2021, 1, 31, 21, 0, tzinfo=TzInfo(UTC)), end_time=datetime.datetime(2021, 1, 31, 21, 30, tzinfo=TzInfo(UTC)), value=196.0),\n",
       " PowerCarbonIntensity(start_time=datetime.datetime(2021, 1, 31, 21, 30, tzinfo=TzInfo(UTC)), end_time=datetime.datetime(2021, 1, 31, 22, 0, tzinfo=TzInfo(UTC)), value=191.0),\n",
       " PowerCarbonIntensity(start_time=datetime.datetime(2021, 1, 31, 22, 0, tzinfo=TzInfo(UTC)), end_time=datetime.datetime(2021, 1, 31, 22, 30, tzinfo=TzInfo(UTC)), value=185.0),\n",
       " PowerCarbonIntensity(start_time=datetime.datetime(2021, 1, 31, 22, 30, tzinfo=TzInfo(UTC)), end_time=datetime.datetime(2021, 1, 31, 23, 0, tzinfo=TzInfo(UTC)), value=182.0),\n",
       " PowerCarbonIntensity(start_time=datetime.datetime(2021, 1, 31, 23, 0, tzinfo=TzInfo(UTC)), end_time=datetime.datetime(2021, 1, 31, 23, 30, tzinfo=TzInfo(UTC)), value=182.0)]"
      ]
     },
     "execution_count": 22,
     "metadata": {},
     "output_type": "execute_result"
    }
   ],
   "source": [
    "power_carbon_intensities[-5:]"
   ]
  },
  {
   "cell_type": "code",
   "execution_count": null,
   "metadata": {},
   "outputs": [],
   "source": [
    "bound_sessionmaker = sessionmaker(engine)\n",
    "\n",
    "with bound_sessionmaker() as session:\n",
    "    for power_carbon_intensity in power_carbon_intensities:\n",
    "        session.add(power_carbon_intensity)\n",
    "    session.commit()"
   ]
  },
  {
   "cell_type": "code",
   "execution_count": null,
   "metadata": {},
   "outputs": [],
   "source": []
  },
  {
   "cell_type": "code",
   "execution_count": null,
   "metadata": {},
   "outputs": [],
   "source": []
  }
 ],
 "metadata": {
  "kernelspec": {
   "display_name": "heatmap-ndF_Jpp4-py3.12",
   "language": "python",
   "name": "python3"
  },
  "language_info": {
   "codemirror_mode": {
    "name": "ipython",
    "version": 3
   },
   "file_extension": ".py",
   "mimetype": "text/x-python",
   "name": "python",
   "nbconvert_exporter": "python",
   "pygments_lexer": "ipython3",
   "version": "3.12.3"
  }
 },
 "nbformat": 4,
 "nbformat_minor": 2
}
