{
 "cells": [
  {
   "cell_type": "code",
   "execution_count": 20,
   "metadata": {},
   "outputs": [],
   "source": []
  },
  {
   "cell_type": "code",
   "execution_count": 1,
   "metadata": {},
   "outputs": [],
   "source": [
    "import os\n",
    "import datetime\n",
    "\n",
    "from dotenv import load_dotenv\n",
    "from sqlmodel import SQLModel, create_engine\n",
    "from sqlalchemy.orm import sessionmaker\n",
    "\n",
    "from heatmap.definitions.timeseries import PowerCarbonIntensity, PowerPrice, GasPrice"
   ]
  },
  {
   "cell_type": "code",
   "execution_count": null,
   "metadata": {},
   "outputs": [],
   "source": []
  },
  {
   "cell_type": "code",
   "execution_count": 22,
   "metadata": {},
   "outputs": [],
   "source": [
    "load_dotenv('../.env')\n",
    "DB_CONN_STR = os.environ['DB_CONN_STR']\n",
    "\n",
    "engine = create_engine(url=DB_CONN_STR)\n",
    "SQLModel.metadata.create_all(engine, tables=[\n",
    "    PowerCarbonIntensity.__table__, \n",
    "    PowerPrice.__table__, \n",
    "    GasPrice.__table__\n",
    "])"
   ]
  },
  {
   "cell_type": "code",
   "execution_count": null,
   "metadata": {},
   "outputs": [],
   "source": []
  },
  {
   "cell_type": "code",
   "execution_count": 23,
   "metadata": {},
   "outputs": [],
   "source": [
    "bound_sessionmaker = sessionmaker(engine)\n",
    "\n",
    "with bound_sessionmaker() as session:\n",
    "    some_object = PowerCarbonIntensity(\n",
    "        start_time=datetime.datetime(2024, 1, 1, 12, 30),\n",
    "        value=123.45\n",
    "    )\n",
    "    session.add(some_object)\n",
    "    session.commit()"
   ]
  },
  {
   "cell_type": "code",
   "execution_count": null,
   "metadata": {},
   "outputs": [],
   "source": []
  }
 ],
 "metadata": {
  "kernelspec": {
   "display_name": "heatmap-ndF_Jpp4-py3.12",
   "language": "python",
   "name": "python3"
  },
  "language_info": {
   "codemirror_mode": {
    "name": "ipython",
    "version": 3
   },
   "file_extension": ".py",
   "mimetype": "text/x-python",
   "name": "python",
   "nbconvert_exporter": "python",
   "pygments_lexer": "ipython3",
   "version": "3.12.3"
  }
 },
 "nbformat": 4,
 "nbformat_minor": 2
}
